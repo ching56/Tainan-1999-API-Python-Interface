{
 "cells": [
  {
   "cell_type": "markdown",
   "metadata": {},
   "source": [
    "# 1999 API"
   ]
  },
  {
   "cell_type": "code",
   "execution_count": 36,
   "metadata": {},
   "outputs": [],
   "source": [
    "from lxml import etree\n",
    "import requests\n",
    "import xmltodict"
   ]
  },
  {
   "cell_type": "code",
   "execution_count": 25,
   "metadata": {},
   "outputs": [],
   "source": [
    "API = 'http://open1999.tainan.gov.tw:82/ServiceRequestsQuery.aspx'"
   ]
  },
  {
   "cell_type": "code",
   "execution_count": 26,
   "metadata": {},
   "outputs": [],
   "source": [
    "def new_node(key, value):\n",
    "    node = etree.Element(key)\n",
    "    node.text = etree.CDATA(value)\n",
    "    return node"
   ]
  },
  {
   "cell_type": "code",
   "execution_count": 27,
   "metadata": {},
   "outputs": [],
   "source": [
    "root = etree.Element(\"root\")"
   ]
  },
  {
   "cell_type": "code",
   "execution_count": 28,
   "metadata": {},
   "outputs": [],
   "source": [
    "root.append(new_node('city_id','tainan.gov.tw'))\n",
    "root.append(new_node('start_date','2018-01-20'))\n",
    "root.append(new_node('end_date','2018-01-30'))"
   ]
  },
  {
   "cell_type": "code",
   "execution_count": 29,
   "metadata": {},
   "outputs": [],
   "source": [
    "headers = {'Content-Type': 'application/xml'}\n",
    "body = etree.tostring(root, xml_declaration=True)"
   ]
  },
  {
   "cell_type": "code",
   "execution_count": 30,
   "metadata": {},
   "outputs": [],
   "source": [
    "r = requests.post(API, data=body, headers=headers)\n",
    "r.text"
   ]
  },
  {
   "cell_type": "code",
   "execution_count": 39,
   "metadata": {},
   "outputs": [],
   "source": [
    "d = xmltodict.parse(r.text)"
   ]
  },
  {
   "cell_type": "code",
   "execution_count": 50,
   "metadata": {},
   "outputs": [
    {
     "data": {
      "text/plain": [
       "OrderedDict([('service_request_id', 'UN201801290334'),\n",
       "             ('requested_datetime', '2018-01-29 23:09:50'),\n",
       "             ('status', '已完工'),\n",
       "             ('keyword', '0'),\n",
       "             ('area', '歸仁區'),\n",
       "             ('service_name', '噪音舉發'),\n",
       "             ('agency', '台南市政府'),\n",
       "             ('subproject', '妨害安寧'),\n",
       "             ('description', '歸仁區保大路二段122巷20弄8號 妨害安寧'),\n",
       "             ('address_string', '保大路二段122巷20弄8號'),\n",
       "             ('lat', None),\n",
       "             ('long', None),\n",
       "             ('service_notice', None),\n",
       "             ('updated_datetime', '2018-01-30 01:31:58'),\n",
       "             ('expected_datetime', '2018-02-28 23:09:50')])"
      ]
     },
     "execution_count": 50,
     "metadata": {},
     "output_type": "execute_result"
    }
   ],
   "source": [
    "d['root']['records']['record'][0]"
   ]
  },
  {
   "cell_type": "code",
   "execution_count": null,
   "metadata": {},
   "outputs": [],
   "source": []
  }
 ],
 "metadata": {
  "kernelspec": {
   "display_name": "Python 3",
   "language": "python",
   "name": "python3"
  },
  "language_info": {
   "codemirror_mode": {
    "name": "ipython",
    "version": 3
   },
   "file_extension": ".py",
   "mimetype": "text/x-python",
   "name": "python",
   "nbconvert_exporter": "python",
   "pygments_lexer": "ipython3",
   "version": "3.5.2"
  }
 },
 "nbformat": 4,
 "nbformat_minor": 2
}
